{
 "cells": [
  {
   "cell_type": "markdown",
   "metadata": {},
   "source": [
    "# Goals: \n",
    "In this notebook I am attempting to do the following: \n",
    "\n",
    "1. Set up an SQL table with sql alchemy. \n",
    "2. Use the the Beautiful soup parsers that I have written to parse the html and then place into a database. \n",
    "\n",
    "I had to remake one of th tables. \n",
    "\n",
    "### First import the libraries \n",
    "    "
   ]
  },
  {
   "cell_type": "code",
   "execution_count": 1,
   "metadata": {
    "collapsed": true
   },
   "outputs": [],
   "source": [
    "# modules\n",
    "%matplotlib inline\n",
    "%config InlineBackend.figure_format='retina'   #this makes it retina style (oh yeah!)\n",
    "from bs4 import BeautifulSoup\n",
    "from os.path import join\n",
    "from pandas import DataFrame\n",
    "from os import getcwd, listdir\n",
    "import matplotlib.pyplot as plt\n",
    "import pandas as pd\n",
    "\n",
    "\n",
    "#append the path for my own funtions and import them \n",
    "import sys\n",
    "sys.path.append('/home/ubuntu/InsightProject')\n",
    "from scraper import * \n",
    "from data_functions import *\n",
    "\n",
    "\n",
    "from multiprocessing.pool import ThreadPool as Pool\n",
    "from validators.url import url as validate_url"
   ]
  },
  {
   "cell_type": "code",
   "execution_count": 2,
   "metadata": {
    "collapsed": true
   },
   "outputs": [],
   "source": [
    "import sqlalchemy as sa\n",
    "from sqlalchemy import Column, Table, MetaData,create_engine\n",
    "from sqlalchemy.dialects.mysql import *\n",
    "from sqlalchemy.sql.expression import insert"
   ]
  },
  {
   "cell_type": "markdown",
   "metadata": {},
   "source": [
    "### Use sqlalchemy to establish a connection to the database. \n",
    "In sql server I created a database called url. I also had to install and configure the SQL database. I am now going to use this sql data base to contain my strings. "
   ]
  },
  {
   "cell_type": "code",
   "execution_count": 3,
   "metadata": {
    "collapsed": false
   },
   "outputs": [],
   "source": [
    "engine = sa.create_engine('mysql://root:@localhost/url')"
   ]
  },
  {
   "cell_type": "code",
   "execution_count": 4,
   "metadata": {
    "collapsed": true
   },
   "outputs": [],
   "source": [
    "results= engine.execute('show databases').fetchall()"
   ]
  },
  {
   "cell_type": "code",
   "execution_count": 5,
   "metadata": {
    "collapsed": false
   },
   "outputs": [
    {
     "data": {
      "text/plain": [
       "[('information_schema',), ('mysql',), ('performance_schema',), ('url',)]"
      ]
     },
     "execution_count": 5,
     "metadata": {},
     "output_type": "execute_result"
    }
   ],
   "source": [
    "results"
   ]
  },
  {
   "cell_type": "markdown",
   "metadata": {},
   "source": [
    "### Create a table to hold the data for the scrapped websites\n",
    "1. First create a metadata object and bind it to the engine.\n",
    "2. Then make the table. This table hold an ID, a url (the string), and a medium text "
   ]
  },
  {
   "cell_type": "code",
   "execution_count": 6,
   "metadata": {
    "collapsed": true
   },
   "outputs": [],
   "source": [
    "metadata =MetaData()\n",
    "metadata.bind = engine"
   ]
  },
  {
   "cell_type": "markdown",
   "metadata": {},
   "source": [
    "I used the following commands to create the tables\n",
    "\n",
    "```python\n",
    "\n",
    "url =Table('classifier_htmls',metadata,\n",
    "            Column('urlID', INTEGER, primary_key=True, autoincrement=True),\n",
    "            Column('url', VARCHAR(60)),\n",
    "            Column('htmlsText',MEDIUMTEXT),\n",
    "            Column('htmlsSize', INTEGER))\n",
    "\n",
    "\n",
    "student = Table('student_htmls',metadata,\n",
    "            Column('urlID', INTEGER, primary_key=True, autoincrement=True),\n",
    "            Column('url', VARCHAR(60)),\n",
    "            Column('htmlsText',MEDIUMTEXT),\n",
    "            Column('htmlsSize', INTEGER))\n",
    "            \n",
    "metadata.create_all(checkfirst=True)\n",
    "\n",
    "```"
   ]
  },
  {
   "cell_type": "code",
   "execution_count": 8,
   "metadata": {
    "collapsed": false
   },
   "outputs": [
    {
     "data": {
      "text/plain": [
       "[('classifier_htmls',), ('student_htmls',)]"
      ]
     },
     "execution_count": 8,
     "metadata": {},
     "output_type": "execute_result"
    }
   ],
   "source": [
    "engine.execute('show tables').fetchall()"
   ]
  },
  {
   "cell_type": "code",
   "execution_count": 9,
   "metadata": {
    "collapsed": false
   },
   "outputs": [
    {
     "data": {
      "text/plain": [
       "[('urlID', 'int(11)', 'NO', 'PRI', None, 'auto_increment'),\n",
       " ('url', 'varchar(60)', 'YES', '', None, ''),\n",
       " ('htmlsText', 'mediumtext', 'YES', '', None, ''),\n",
       " ('htmlsSize', 'int(11)', 'YES', '', None, '')]"
      ]
     },
     "execution_count": 9,
     "metadata": {},
     "output_type": "execute_result"
    }
   ],
   "source": [
    "engine.execute('describe student_htmls').fetchall()"
   ]
  },
  {
   "cell_type": "markdown",
   "metadata": {},
   "source": [
    "## Now time to use the beautiful soup functions to start parsing. \n",
    "\n",
    "First I will write a function to be called by the multiprocessing pools. \n",
    "This function will: \n",
    "\n",
    "1. Import the text, and scrape it. \n",
    "2. It will calculate the number of strings for each text. \n",
    "3. It will then insert the url, text, and the length of the string into the text. "
   ]
  },
  {
   "cell_type": "code",
   "execution_count": 10,
   "metadata": {
    "collapsed": false
   },
   "outputs": [],
   "source": [
    "eng = create_engine('mysql://root:@localhost/url',pool_size=32)   #create a new engine with 32 connections"
   ]
  },
  {
   "cell_type": "code",
   "execution_count": 11,
   "metadata": {
    "collapsed": true
   },
   "outputs": [],
   "source": [
    "meta = MetaData()\n",
    "meta.bind = eng"
   ]
  },
  {
   "cell_type": "code",
   "execution_count": 26,
   "metadata": {
    "collapsed": false
   },
   "outputs": [
    {
     "ename": "InvalidRequestError",
     "evalue": "Table 'classifier_htmls' is already defined for this MetaData instance.  Specify 'extend_existing=True' to redefine options and columns on an existing Table object.",
     "output_type": "error",
     "traceback": [
      "\u001b[1;31m---------------------------------------------------------------------------\u001b[0m",
      "\u001b[1;31mInvalidRequestError\u001b[0m                       Traceback (most recent call last)",
      "\u001b[1;32m<ipython-input-26-b7f69ffccefe>\u001b[0m in \u001b[0;36m<module>\u001b[1;34m()\u001b[0m\n\u001b[0;32m      3\u001b[0m             \u001b[0mColumn\u001b[0m\u001b[1;33m(\u001b[0m\u001b[1;34m'url'\u001b[0m\u001b[1;33m,\u001b[0m \u001b[0mVARCHAR\u001b[0m\u001b[1;33m(\u001b[0m\u001b[1;36m60\u001b[0m\u001b[1;33m)\u001b[0m\u001b[1;33m)\u001b[0m\u001b[1;33m,\u001b[0m\u001b[1;33m\u001b[0m\u001b[0m\n\u001b[0;32m      4\u001b[0m             \u001b[0mColumn\u001b[0m\u001b[1;33m(\u001b[0m\u001b[1;34m'htmlsText'\u001b[0m\u001b[1;33m,\u001b[0m\u001b[0mMEDIUMTEXT\u001b[0m\u001b[1;33m)\u001b[0m\u001b[1;33m,\u001b[0m\u001b[1;33m\u001b[0m\u001b[0m\n\u001b[1;32m----> 5\u001b[1;33m             Column('htmlsSize', INTEGER))\n\u001b[0m",
      "\u001b[1;32m/home/ubuntu/anaconda/lib/python2.7/site-packages/sqlalchemy/sql/schema.pyc\u001b[0m in \u001b[0;36m__new__\u001b[1;34m(cls, *args, **kw)\u001b[0m\n\u001b[0;32m    396\u001b[0m                     \u001b[1;34m\"to redefine \"\u001b[0m\u001b[1;33m\u001b[0m\u001b[0m\n\u001b[0;32m    397\u001b[0m                     \u001b[1;34m\"options and columns on an \"\u001b[0m\u001b[1;33m\u001b[0m\u001b[0m\n\u001b[1;32m--> 398\u001b[1;33m                     \"existing Table object.\" % key)\n\u001b[0m\u001b[0;32m    399\u001b[0m             \u001b[0mtable\u001b[0m \u001b[1;33m=\u001b[0m \u001b[0mmetadata\u001b[0m\u001b[1;33m.\u001b[0m\u001b[0mtables\u001b[0m\u001b[1;33m[\u001b[0m\u001b[0mkey\u001b[0m\u001b[1;33m]\u001b[0m\u001b[1;33m\u001b[0m\u001b[0m\n\u001b[0;32m    400\u001b[0m             \u001b[1;32mif\u001b[0m \u001b[0mextend_existing\u001b[0m\u001b[1;33m:\u001b[0m\u001b[1;33m\u001b[0m\u001b[0m\n",
      "\u001b[1;31mInvalidRequestError\u001b[0m: Table 'classifier_htmls' is already defined for this MetaData instance.  Specify 'extend_existing=True' to redefine options and columns on an existing Table object."
     ]
    }
   ],
   "source": [
    "classifier_htmls = Table('classifier_htmls',metadata,\n",
    "            Column('urlID', INTEGER, primary_key=True, autoincrement=True),\n",
    "            Column('url', VARCHAR(60)),\n",
    "            Column('htmlsText',MEDIUMTEXT),\n",
    "            Column('htmlsSize', INTEGER))"
   ]
  },
  {
   "cell_type": "code",
   "execution_count": 17,
   "metadata": {
    "collapsed": true
   },
   "outputs": [],
   "source": [
    "#``` python\n",
    "def parse_text(html):\n",
    "    \"\"\" parses the html and inserts into the database\"\"\"\n",
    "    \n",
    "    # parste the text and calculate the size\n",
    "    html_path = '/home/ubuntu/data/html'\n",
    "    url = html   #get the urginal url\n",
    "    html = join(html_path, html)\n",
    "    parsed = scrape_all_text(html)\n",
    "    size = len(parsed)\n",
    "    \n",
    "    # handle the insertion into the table. \n",
    "    eng.dispose()\n",
    "    with eng.connect() as conn:\n",
    "        # insert the data into the database. \n",
    "        ins = classifier_htmls.insert().values(url = url, htmlsText = parsed, htmlsSize=size)\n",
    "        conn.execute(ins)\n",
    "#    ```"
   ]
  },
  {
   "cell_type": "code",
   "execution_count": 18,
   "metadata": {
    "collapsed": false
   },
   "outputs": [],
   "source": [
    "html_path = '/home/ubuntu/data/html'\n",
    "htmls= [html for html in listdir('/home/ubuntu/data/html')]"
   ]
  },
  {
   "cell_type": "code",
   "execution_count": 23,
   "metadata": {
    "collapsed": false
   },
   "outputs": [
    {
     "name": "stdout",
     "output_type": "stream",
     "text": [
      "the number of entries is 0\n"
     ]
    }
   ],
   "source": [
    "print 'the number of entries is %d' %len(eng.execute('select * from classifier_htmls').fetchall())"
   ]
  },
  {
   "cell_type": "markdown",
   "metadata": {},
   "source": [
    "``` python i = parse_text(htmls[0]) ```"
   ]
  },
  {
   "cell_type": "code",
   "execution_count": 24,
   "metadata": {
    "collapsed": true
   },
   "outputs": [],
   "source": [
    "#I used this script to parse the data. I am going to write a new fuction to scrape t\n",
    "\n",
    "#```python\n",
    "\n",
    "def insert_htmls(htmls,threads = 32):\n",
    "    \"\"\"inserts multoples\"\"\"\n",
    "    pool = Pool(threads)\n",
    "    pool.map(parse_text, htmls)\n",
    "    pool.close()   #```"
   ]
  },
  {
   "cell_type": "code",
   "execution_count": 25,
   "metadata": {
    "collapsed": false
   },
   "outputs": [
    {
     "ename": "NameError",
     "evalue": "global name 'classifier_htmls' is not defined",
     "output_type": "error",
     "traceback": [
      "\u001b[1;31m---------------------------------------------------------------------------\u001b[0m",
      "\u001b[1;31mNameError\u001b[0m                                 Traceback (most recent call last)",
      "\u001b[1;32m<ipython-input-25-db664f84a11f>\u001b[0m in \u001b[0;36m<module>\u001b[1;34m()\u001b[0m\n\u001b[0;32m      1\u001b[0m \u001b[1;31m#```python\u001b[0m\u001b[1;33m\u001b[0m\u001b[1;33m\u001b[0m\u001b[0m\n\u001b[1;32m----> 2\u001b[1;33m \u001b[0minsert_htmls\u001b[0m\u001b[1;33m(\u001b[0m\u001b[0mhtmls\u001b[0m\u001b[1;33m)\u001b[0m \u001b[1;31m#```\u001b[0m\u001b[1;33m\u001b[0m\u001b[0m\n\u001b[0m",
      "\u001b[1;32m<ipython-input-24-42649511576f>\u001b[0m in \u001b[0;36minsert_htmls\u001b[1;34m(htmls, threads)\u001b[0m\n\u001b[0;32m      6\u001b[0m     \u001b[1;34m\"\"\"inserts multoples\"\"\"\u001b[0m\u001b[1;33m\u001b[0m\u001b[0m\n\u001b[0;32m      7\u001b[0m     \u001b[0mpool\u001b[0m \u001b[1;33m=\u001b[0m \u001b[0mPool\u001b[0m\u001b[1;33m(\u001b[0m\u001b[0mthreads\u001b[0m\u001b[1;33m)\u001b[0m\u001b[1;33m\u001b[0m\u001b[0m\n\u001b[1;32m----> 8\u001b[1;33m     \u001b[0mpool\u001b[0m\u001b[1;33m.\u001b[0m\u001b[0mmap\u001b[0m\u001b[1;33m(\u001b[0m\u001b[0mparse_text\u001b[0m\u001b[1;33m,\u001b[0m \u001b[0mhtmls\u001b[0m\u001b[1;33m)\u001b[0m\u001b[1;33m\u001b[0m\u001b[0m\n\u001b[0m\u001b[0;32m      9\u001b[0m     \u001b[0mpool\u001b[0m\u001b[1;33m.\u001b[0m\u001b[0mclose\u001b[0m\u001b[1;33m(\u001b[0m\u001b[1;33m)\u001b[0m   \u001b[1;31m#```\u001b[0m\u001b[1;33m\u001b[0m\u001b[0m\n",
      "\u001b[1;32m/home/ubuntu/anaconda/lib/python2.7/multiprocessing/pool.pyc\u001b[0m in \u001b[0;36mmap\u001b[1;34m(self, func, iterable, chunksize)\u001b[0m\n\u001b[0;32m    249\u001b[0m         '''\n\u001b[0;32m    250\u001b[0m         \u001b[1;32massert\u001b[0m \u001b[0mself\u001b[0m\u001b[1;33m.\u001b[0m\u001b[0m_state\u001b[0m \u001b[1;33m==\u001b[0m \u001b[0mRUN\u001b[0m\u001b[1;33m\u001b[0m\u001b[0m\n\u001b[1;32m--> 251\u001b[1;33m         \u001b[1;32mreturn\u001b[0m \u001b[0mself\u001b[0m\u001b[1;33m.\u001b[0m\u001b[0mmap_async\u001b[0m\u001b[1;33m(\u001b[0m\u001b[0mfunc\u001b[0m\u001b[1;33m,\u001b[0m \u001b[0miterable\u001b[0m\u001b[1;33m,\u001b[0m \u001b[0mchunksize\u001b[0m\u001b[1;33m)\u001b[0m\u001b[1;33m.\u001b[0m\u001b[0mget\u001b[0m\u001b[1;33m(\u001b[0m\u001b[1;33m)\u001b[0m\u001b[1;33m\u001b[0m\u001b[0m\n\u001b[0m\u001b[0;32m    252\u001b[0m \u001b[1;33m\u001b[0m\u001b[0m\n\u001b[0;32m    253\u001b[0m     \u001b[1;32mdef\u001b[0m \u001b[0mimap\u001b[0m\u001b[1;33m(\u001b[0m\u001b[0mself\u001b[0m\u001b[1;33m,\u001b[0m \u001b[0mfunc\u001b[0m\u001b[1;33m,\u001b[0m \u001b[0miterable\u001b[0m\u001b[1;33m,\u001b[0m \u001b[0mchunksize\u001b[0m\u001b[1;33m=\u001b[0m\u001b[1;36m1\u001b[0m\u001b[1;33m)\u001b[0m\u001b[1;33m:\u001b[0m\u001b[1;33m\u001b[0m\u001b[0m\n",
      "\u001b[1;32m/home/ubuntu/anaconda/lib/python2.7/multiprocessing/pool.pyc\u001b[0m in \u001b[0;36mget\u001b[1;34m(self, timeout)\u001b[0m\n\u001b[0;32m    565\u001b[0m             \u001b[1;32mreturn\u001b[0m \u001b[0mself\u001b[0m\u001b[1;33m.\u001b[0m\u001b[0m_value\u001b[0m\u001b[1;33m\u001b[0m\u001b[0m\n\u001b[0;32m    566\u001b[0m         \u001b[1;32melse\u001b[0m\u001b[1;33m:\u001b[0m\u001b[1;33m\u001b[0m\u001b[0m\n\u001b[1;32m--> 567\u001b[1;33m             \u001b[1;32mraise\u001b[0m \u001b[0mself\u001b[0m\u001b[1;33m.\u001b[0m\u001b[0m_value\u001b[0m\u001b[1;33m\u001b[0m\u001b[0m\n\u001b[0m\u001b[0;32m    568\u001b[0m \u001b[1;33m\u001b[0m\u001b[0m\n\u001b[0;32m    569\u001b[0m     \u001b[1;32mdef\u001b[0m \u001b[0m_set\u001b[0m\u001b[1;33m(\u001b[0m\u001b[0mself\u001b[0m\u001b[1;33m,\u001b[0m \u001b[0mi\u001b[0m\u001b[1;33m,\u001b[0m \u001b[0mobj\u001b[0m\u001b[1;33m)\u001b[0m\u001b[1;33m:\u001b[0m\u001b[1;33m\u001b[0m\u001b[0m\n",
      "\u001b[1;31mNameError\u001b[0m: global name 'classifier_htmls' is not defined"
     ]
    }
   ],
   "source": [
    "#```python \n",
    "insert_htmls(htmls) #```"
   ]
  },
  {
   "cell_type": "markdown",
   "metadata": {
    "collapsed": true
   },
   "source": [
    "### Add more the data that I previously downloaded to the data base. \n",
    "\n",
    "The goal of this part is to repeat what I did, scrape the remaing sites and input them into the sql database.  To do this. \n",
    "\n",
    "1. Set the path and file location. \n",
    "2. Modify the two fuctions. \n",
    "3. Run it. "
   ]
  },
  {
   "cell_type": "code",
   "execution_count": 35,
   "metadata": {
    "collapsed": false
   },
   "outputs": [],
   "source": [
    "htmls= [html for html in listdir('/home/ubuntu/data/GoGuardianHTMLS-9-17-2015-A')]"
   ]
  },
  {
   "cell_type": "code",
   "execution_count": 36,
   "metadata": {
    "collapsed": false
   },
   "outputs": [],
   "source": [
    "def parse_text(html):\n",
    "    \"\"\" parses the html and inserts into the database\"\"\"\n",
    "    \n",
    "    # parste the text and calculate the size\n",
    "    html_path = '/home/ubuntu/data/GoGuardianHTMLS-9-17-2015-A'\n",
    "    url = html   #get the urginal url\n",
    "    html = join(html_path, html)\n",
    "    parsed = scrape_all_text(html)\n",
    "    size = len(parsed)\n",
    "    \n",
    "    # handle the insertion into the table. \n",
    "    eng.dispose()\n",
    "    with eng.connect() as conn:\n",
    "        # insert the data into the database. \n",
    "        ins = classifier_htmls.insert().values(url = url, htmlsText = parsed, htmlsSize=size)\n",
    "        conn.execute(ins)"
   ]
  },
  {
   "cell_type": "code",
   "execution_count": 37,
   "metadata": {
    "collapsed": false
   },
   "outputs": [],
   "source": [
    "def insert_htmls(htmls,threads = 32):\n",
    "    \"\"\"inserts multoples\"\"\"\n",
    "    pool = Pool(threads)\n",
    "    pool.map(parse_text, htmls)\n",
    "    pool.close() "
   ]
  },
  {
   "cell_type": "markdown",
   "metadata": {},
   "source": [
    "```insert_htmls(htmls)```"
   ]
  },
  {
   "cell_type": "code",
   "execution_count": 64,
   "metadata": {
    "collapsed": true
   },
   "outputs": [],
   "source": [
    "r = engine.execute('Select * from classifier_htmls').fetchall()"
   ]
  },
  {
   "cell_type": "code",
   "execution_count": 65,
   "metadata": {
    "collapsed": false
   },
   "outputs": [
    {
     "data": {
      "text/plain": [
       "30643"
      ]
     },
     "execution_count": 65,
     "metadata": {},
     "output_type": "execute_result"
    }
   ],
   "source": [
    "len(r)"
   ]
  },
  {
   "cell_type": "code",
   "execution_count": 68,
   "metadata": {
    "collapsed": false
   },
   "outputs": [
    {
     "data": {
      "text/plain": [
       "53540"
      ]
     },
     "execution_count": 68,
     "metadata": {},
     "output_type": "execute_result"
    }
   ],
   "source": [
    "path1 = '/home/ubuntu/data/html'\n",
    "path2 = '/home/ubuntu/data/GoGuardianHTMLS-9-17-2015-A'\n",
    "len(listdir(path1)) +len(listdir(path2))"
   ]
  },
  {
   "cell_type": "code",
   "execution_count": 72,
   "metadata": {
    "collapsed": false
   },
   "outputs": [],
   "source": [
    "data = pd.read_sql('Select * from classifier_htmls', con = engine)"
   ]
  },
  {
   "cell_type": "code",
   "execution_count": 73,
   "metadata": {
    "collapsed": false
   },
   "outputs": [
    {
     "data": {
      "text/html": [
       "<div>\n",
       "<table border=\"1\" class=\"dataframe\">\n",
       "  <thead>\n",
       "    <tr style=\"text-align: right;\">\n",
       "      <th></th>\n",
       "      <th>urlID</th>\n",
       "      <th>url</th>\n",
       "      <th>htmlsText</th>\n",
       "      <th>htmlsSize</th>\n",
       "    </tr>\n",
       "  </thead>\n",
       "  <tbody>\n",
       "    <tr>\n",
       "      <th>0</th>\n",
       "      <td>1</td>\n",
       "      <td>thesinglesdatingagency-uk_co_uk.txt</td>\n",
       "      <td>Singles Dating Agency   Register for free ...</td>\n",
       "      <td>55</td>\n",
       "    </tr>\n",
       "    <tr>\n",
       "      <th>1</th>\n",
       "      <td>2</td>\n",
       "      <td>faqt_net.txt</td>\n",
       "      <td></td>\n",
       "      <td>5</td>\n",
       "    </tr>\n",
       "    <tr>\n",
       "      <th>2</th>\n",
       "      <td>3</td>\n",
       "      <td>stylenik_com.txt</td>\n",
       "      <td>403 Forbidden</td>\n",
       "      <td>18</td>\n",
       "    </tr>\n",
       "    <tr>\n",
       "      <th>3</th>\n",
       "      <td>4</td>\n",
       "      <td>lawschoolpoker_com.txt</td>\n",
       "      <td>You don t have permission to access   on this ...</td>\n",
       "      <td>183</td>\n",
       "    </tr>\n",
       "    <tr>\n",
       "      <th>4</th>\n",
       "      <td>5</td>\n",
       "      <td>pat-raceable_tk.txt</td>\n",
       "      <td>pat raceable tk</td>\n",
       "      <td>20</td>\n",
       "    </tr>\n",
       "    <tr>\n",
       "      <th>5</th>\n",
       "      <td>6</td>\n",
       "      <td>media4_sitebrand_com.txt</td>\n",
       "      <td></td>\n",
       "      <td>6</td>\n",
       "    </tr>\n",
       "    <tr>\n",
       "      <th>6</th>\n",
       "      <td>7</td>\n",
       "      <td>firearmstraininggroup_com.txt</td>\n",
       "      <td>FIREARMSTRAININGGROUP COM</td>\n",
       "      <td>30</td>\n",
       "    </tr>\n",
       "    <tr>\n",
       "      <th>7</th>\n",
       "      <td>8</td>\n",
       "      <td>mystmanuualfastweb_tk.txt</td>\n",
       "      <td>mystmanuualfastweb tk</td>\n",
       "      <td>26</td>\n",
       "    </tr>\n",
       "    <tr>\n",
       "      <th>8</th>\n",
       "      <td>9</td>\n",
       "      <td>moviefox_org.txt</td>\n",
       "      <td>An appropriate representation of the requested...</td>\n",
       "      <td>227</td>\n",
       "    </tr>\n",
       "    <tr>\n",
       "      <th>9</th>\n",
       "      <td>10</td>\n",
       "      <td>hitspages_com.txt</td>\n",
       "      <td>hitspages com  Buy this domain   Privacy Poli...</td>\n",
       "      <td>51</td>\n",
       "    </tr>\n",
       "    <tr>\n",
       "      <th>10</th>\n",
       "      <td>11</td>\n",
       "      <td>yojik_com.txt</td>\n",
       "      <td>Yojik com  The domain yojik com may be for sa...</td>\n",
       "      <td>112</td>\n",
       "    </tr>\n",
       "    <tr>\n",
       "      <th>11</th>\n",
       "      <td>12</td>\n",
       "      <td>librarymonk_com.txt</td>\n",
       "      <td>LibraryMonk com</td>\n",
       "      <td>23</td>\n",
       "    </tr>\n",
       "    <tr>\n",
       "      <th>12</th>\n",
       "      <td>13</td>\n",
       "      <td>ukflyfisher_co_uk.txt</td>\n",
       "      <td>This domain is FOR SALE   Diese Domain steht Z...</td>\n",
       "      <td>253</td>\n",
       "    </tr>\n",
       "    <tr>\n",
       "      <th>13</th>\n",
       "      <td>14</td>\n",
       "      <td>gameswag_net.txt</td>\n",
       "      <td>Copyright  gameswag co kr All right reserve...</td>\n",
       "      <td>77</td>\n",
       "    </tr>\n",
       "    <tr>\n",
       "      <th>14</th>\n",
       "      <td>15</td>\n",
       "      <td>silvipera1_tripod_comid18_html.txt</td>\n",
       "      <td>Create a Website   Tripod Web Hosting  Login ...</td>\n",
       "      <td>313</td>\n",
       "    </tr>\n",
       "    <tr>\n",
       "      <th>15</th>\n",
       "      <td>16</td>\n",
       "      <td>threefingers_com_au.txt</td>\n",
       "      <td>Threefingers Cartooning Matt Golding         ...</td>\n",
       "      <td>67</td>\n",
       "    </tr>\n",
       "    <tr>\n",
       "      <th>16</th>\n",
       "      <td>17</td>\n",
       "      <td>majomparade_net.txt</td>\n",
       "      <td>Majompard   Kezdlap Bejelentkezs Regisztrci E...</td>\n",
       "      <td>65</td>\n",
       "    </tr>\n",
       "    <tr>\n",
       "      <th>17</th>\n",
       "      <td>18</td>\n",
       "      <td>laborstandard_org.txt</td>\n",
       "      <td>New Articles on the Website From the Arsenal o...</td>\n",
       "      <td>1424</td>\n",
       "    </tr>\n",
       "    <tr>\n",
       "      <th>18</th>\n",
       "      <td>19</td>\n",
       "      <td>carricklodgehotel_co_uk.txt</td>\n",
       "      <td>Nestled in the heart of Ayrshire s renowned Bu...</td>\n",
       "      <td>1144</td>\n",
       "    </tr>\n",
       "    <tr>\n",
       "      <th>19</th>\n",
       "      <td>20</td>\n",
       "      <td>coloradoadultsoccerassociation_com.txt</td>\n",
       "      <td>Colorado Adult Soccer Association      Colora...</td>\n",
       "      <td>233</td>\n",
       "    </tr>\n",
       "    <tr>\n",
       "      <th>20</th>\n",
       "      <td>21</td>\n",
       "      <td>tellumo_net.txt</td>\n",
       "      <td>You have requested a site that is currently o...</td>\n",
       "      <td>618</td>\n",
       "    </tr>\n",
       "    <tr>\n",
       "      <th>21</th>\n",
       "      <td>22</td>\n",
       "      <td>pantherhills_com.txt</td>\n",
       "      <td>Panther Hills Ultimate Motorized Bicycle Autho...</td>\n",
       "      <td>7250</td>\n",
       "    </tr>\n",
       "    <tr>\n",
       "      <th>22</th>\n",
       "      <td>23</td>\n",
       "      <td>pointebank_com.txt</td>\n",
       "      <td>Mercantile Bank             Home loan ...</td>\n",
       "      <td>97</td>\n",
       "    </tr>\n",
       "    <tr>\n",
       "      <th>23</th>\n",
       "      <td>24</td>\n",
       "      <td>sundialmagazines_co_uk.txt</td>\n",
       "      <td>Sundial Magazines Ltd is an independent compan...</td>\n",
       "      <td>1190</td>\n",
       "    </tr>\n",
       "    <tr>\n",
       "      <th>24</th>\n",
       "      <td>25</td>\n",
       "      <td>dimapurwebdesign_com.txt</td>\n",
       "      <td>Dimapur Web Design is a Web Design Company  ba...</td>\n",
       "      <td>3848</td>\n",
       "    </tr>\n",
       "    <tr>\n",
       "      <th>25</th>\n",
       "      <td>26</td>\n",
       "      <td>plantiac_com.txt</td>\n",
       "      <td>Plantiac is een bijzonder zachte Vieux ...</td>\n",
       "      <td>6610</td>\n",
       "    </tr>\n",
       "    <tr>\n",
       "      <th>26</th>\n",
       "      <td>27</td>\n",
       "      <td>Ampublishing_org.txt</td>\n",
       "      <td></td>\n",
       "      <td>5</td>\n",
       "    </tr>\n",
       "    <tr>\n",
       "      <th>27</th>\n",
       "      <td>28</td>\n",
       "      <td>elcasinoballroom_com.txt</td>\n",
       "      <td>Click to  Like Us  on Facebook  Basically w...</td>\n",
       "      <td>1049</td>\n",
       "    </tr>\n",
       "    <tr>\n",
       "      <th>28</th>\n",
       "      <td>29</td>\n",
       "      <td>uksharks_com.txt</td>\n",
       "      <td>2014 sees the launch of a new look UK Sharks ...</td>\n",
       "      <td>3187</td>\n",
       "    </tr>\n",
       "    <tr>\n",
       "      <th>29</th>\n",
       "      <td>30</td>\n",
       "      <td>kristen_dk.txt</td>\n",
       "      <td>CKT er en uafhngig tnketank af kristne vidensk...</td>\n",
       "      <td>968</td>\n",
       "    </tr>\n",
       "    <tr>\n",
       "      <th>...</th>\n",
       "      <td>...</td>\n",
       "      <td>...</td>\n",
       "      <td>...</td>\n",
       "      <td>...</td>\n",
       "    </tr>\n",
       "    <tr>\n",
       "      <th>30613</th>\n",
       "      <td>30614</td>\n",
       "      <td>musichost_com.txt</td>\n",
       "      <td>MusicHost Classical Music Video Recording   G...</td>\n",
       "      <td>224</td>\n",
       "    </tr>\n",
       "    <tr>\n",
       "      <th>30614</th>\n",
       "      <td>30615</td>\n",
       "      <td>cheeseland_net.txt</td>\n",
       "      <td>Welcome to CHEESELAND NET  Interested in this...</td>\n",
       "      <td>111</td>\n",
       "    </tr>\n",
       "    <tr>\n",
       "      <th>30615</th>\n",
       "      <td>30616</td>\n",
       "      <td>ink361_com.txt</td>\n",
       "      <td>Relive your Instagram moments   Find and foll...</td>\n",
       "      <td>1689</td>\n",
       "    </tr>\n",
       "    <tr>\n",
       "      <th>30616</th>\n",
       "      <td>30617</td>\n",
       "      <td>Ericweisstein_com.txt</td>\n",
       "      <td>I was born in Bloomington  Indiana  on March...</td>\n",
       "      <td>4693</td>\n",
       "    </tr>\n",
       "    <tr>\n",
       "      <th>30617</th>\n",
       "      <td>30618</td>\n",
       "      <td>smileyland_co_il.txt</td>\n",
       "      <td>...</td>\n",
       "      <td>505</td>\n",
       "    </tr>\n",
       "    <tr>\n",
       "      <th>30618</th>\n",
       "      <td>30619</td>\n",
       "      <td>faireconomy_org.txt</td>\n",
       "      <td>We re still accepting applications for Liberat...</td>\n",
       "      <td>1844</td>\n",
       "    </tr>\n",
       "    <tr>\n",
       "      <th>30619</th>\n",
       "      <td>30620</td>\n",
       "      <td>jaylclendenin_com.txt</td>\n",
       "      <td>LA Photographer Jay L  Clendenin  Portrait Ph...</td>\n",
       "      <td>139</td>\n",
       "    </tr>\n",
       "    <tr>\n",
       "      <th>30620</th>\n",
       "      <td>30621</td>\n",
       "      <td>icampus_nl.txt</td>\n",
       "      <td>iCampus nl is gesloten   Skylark Media Group ...</td>\n",
       "      <td>66</td>\n",
       "    </tr>\n",
       "    <tr>\n",
       "      <th>30621</th>\n",
       "      <td>30622</td>\n",
       "      <td>pani-kumaya_com.txt</td>\n",
       "      <td>...</td>\n",
       "      <td>408</td>\n",
       "    </tr>\n",
       "    <tr>\n",
       "      <th>30622</th>\n",
       "      <td>30623</td>\n",
       "      <td>coxcountrygifts_com.txt</td>\n",
       "      <td></td>\n",
       "      <td>5</td>\n",
       "    </tr>\n",
       "    <tr>\n",
       "      <th>30623</th>\n",
       "      <td>30624</td>\n",
       "      <td>songplanet_com.txt</td>\n",
       "      <td>Sign in Recent Site Activity Report Abuse Prin...</td>\n",
       "      <td>253</td>\n",
       "    </tr>\n",
       "    <tr>\n",
       "      <th>30624</th>\n",
       "      <td>30625</td>\n",
       "      <td>hyperfoxstudio_com.txt</td>\n",
       "      <td>Hello  I am alive  BTS is not dead  I suppos...</td>\n",
       "      <td>1451</td>\n",
       "    </tr>\n",
       "    <tr>\n",
       "      <th>30625</th>\n",
       "      <td>30626</td>\n",
       "      <td>detrafford_co_za.txt</td>\n",
       "      <td>We are open for sales and tastings Friday ...</td>\n",
       "      <td>3036</td>\n",
       "    </tr>\n",
       "    <tr>\n",
       "      <th>30626</th>\n",
       "      <td>30627</td>\n",
       "      <td>fortstreetbeer_com.txt</td>\n",
       "      <td>BYO bloody marys   1 off FC beers   5 pizzas  ...</td>\n",
       "      <td>3940</td>\n",
       "    </tr>\n",
       "    <tr>\n",
       "      <th>30627</th>\n",
       "      <td>30628</td>\n",
       "      <td>horsemaniac_com.txt</td>\n",
       "      <td>Bes...</td>\n",
       "      <td>2172</td>\n",
       "    </tr>\n",
       "    <tr>\n",
       "      <th>30628</th>\n",
       "      <td>30629</td>\n",
       "      <td>goodresume_com.txt</td>\n",
       "      <td>writersblockservices com Writing  design  mark...</td>\n",
       "      <td>5239</td>\n",
       "    </tr>\n",
       "    <tr>\n",
       "      <th>30629</th>\n",
       "      <td>30630</td>\n",
       "      <td>airmadagascar_com.txt</td>\n",
       "      <td>Air Madagascar dessert 21 destinations sur l...</td>\n",
       "      <td>4410</td>\n",
       "    </tr>\n",
       "    <tr>\n",
       "      <th>30630</th>\n",
       "      <td>30631</td>\n",
       "      <td>fatisch_de.txt</td>\n",
       "      <td>PLANET Fatisch</td>\n",
       "      <td>25</td>\n",
       "    </tr>\n",
       "    <tr>\n",
       "      <th>30631</th>\n",
       "      <td>30632</td>\n",
       "      <td>nitrodollars_com.txt</td>\n",
       "      <td>Web Page Under Construction</td>\n",
       "      <td>36</td>\n",
       "    </tr>\n",
       "    <tr>\n",
       "      <th>30632</th>\n",
       "      <td>30633</td>\n",
       "      <td>leadershipresumes_net.txt</td>\n",
       "      <td>In preparation for    or in re energizing...</td>\n",
       "      <td>1960</td>\n",
       "    </tr>\n",
       "    <tr>\n",
       "      <th>30633</th>\n",
       "      <td>30634</td>\n",
       "      <td>global-evolve_com.txt</td>\n",
       "      <td>Jump to content  Click here to log in   Commun...</td>\n",
       "      <td>223</td>\n",
       "    </tr>\n",
       "    <tr>\n",
       "      <th>30634</th>\n",
       "      <td>30635</td>\n",
       "      <td>Dex_freehostia_com.txt</td>\n",
       "      <td></td>\n",
       "      <td>7</td>\n",
       "    </tr>\n",
       "    <tr>\n",
       "      <th>30635</th>\n",
       "      <td>30636</td>\n",
       "      <td>flcuk_com.txt</td>\n",
       "      <td>Search    The Premier Bike Shop in Bournemouth...</td>\n",
       "      <td>3318</td>\n",
       "    </tr>\n",
       "    <tr>\n",
       "      <th>30636</th>\n",
       "      <td>30637</td>\n",
       "      <td>discordcomics_com.txt</td>\n",
       "      <td>Khaos Komix in French Khaos Komix in Hungarian...</td>\n",
       "      <td>703</td>\n",
       "    </tr>\n",
       "    <tr>\n",
       "      <th>30637</th>\n",
       "      <td>30638</td>\n",
       "      <td>Song-lyrics-search_com.txt</td>\n",
       "      <td>Song Lyrics Search  Aerosmith Backstreet     ...</td>\n",
       "      <td>652</td>\n",
       "    </tr>\n",
       "    <tr>\n",
       "      <th>30638</th>\n",
       "      <td>30639</td>\n",
       "      <td>musicbox-online_com.txt</td>\n",
       "      <td>The Music Box is a daily ma...</td>\n",
       "      <td>7355</td>\n",
       "    </tr>\n",
       "    <tr>\n",
       "      <th>30639</th>\n",
       "      <td>30640</td>\n",
       "      <td>tv-qc_net.txt</td>\n",
       "      <td>tv qc net  Buy this domain   Privacy Policy</td>\n",
       "      <td>47</td>\n",
       "    </tr>\n",
       "    <tr>\n",
       "      <th>30640</th>\n",
       "      <td>30641</td>\n",
       "      <td>trinitywildcats_co_uk.txt</td>\n",
       "      <td>Millions of people watch all kinds of sports d...</td>\n",
       "      <td>7217</td>\n",
       "    </tr>\n",
       "    <tr>\n",
       "      <th>30641</th>\n",
       "      <td>30642</td>\n",
       "      <td>homeschoolingtoday_com.txt</td>\n",
       "      <td>Colorful leaves are the hallmark of fall  Thei...</td>\n",
       "      <td>2148</td>\n",
       "    </tr>\n",
       "    <tr>\n",
       "      <th>30642</th>\n",
       "      <td>30643</td>\n",
       "      <td>streetrat_comicgenesis_com.txt</td>\n",
       "      <td>Street Rat                     Keenspace   ...</td>\n",
       "      <td>66</td>\n",
       "    </tr>\n",
       "  </tbody>\n",
       "</table>\n",
       "<p>30643 rows × 4 columns</p>\n",
       "</div>"
      ],
      "text/plain": [
       "       urlID                                     url  \\\n",
       "0          1     thesinglesdatingagency-uk_co_uk.txt   \n",
       "1          2                            faqt_net.txt   \n",
       "2          3                        stylenik_com.txt   \n",
       "3          4                  lawschoolpoker_com.txt   \n",
       "4          5                     pat-raceable_tk.txt   \n",
       "5          6                media4_sitebrand_com.txt   \n",
       "6          7           firearmstraininggroup_com.txt   \n",
       "7          8               mystmanuualfastweb_tk.txt   \n",
       "8          9                        moviefox_org.txt   \n",
       "9         10                       hitspages_com.txt   \n",
       "10        11                           yojik_com.txt   \n",
       "11        12                     librarymonk_com.txt   \n",
       "12        13                   ukflyfisher_co_uk.txt   \n",
       "13        14                        gameswag_net.txt   \n",
       "14        15      silvipera1_tripod_comid18_html.txt   \n",
       "15        16                 threefingers_com_au.txt   \n",
       "16        17                     majomparade_net.txt   \n",
       "17        18                   laborstandard_org.txt   \n",
       "18        19             carricklodgehotel_co_uk.txt   \n",
       "19        20  coloradoadultsoccerassociation_com.txt   \n",
       "20        21                         tellumo_net.txt   \n",
       "21        22                    pantherhills_com.txt   \n",
       "22        23                      pointebank_com.txt   \n",
       "23        24              sundialmagazines_co_uk.txt   \n",
       "24        25                dimapurwebdesign_com.txt   \n",
       "25        26                        plantiac_com.txt   \n",
       "26        27                    Ampublishing_org.txt   \n",
       "27        28                elcasinoballroom_com.txt   \n",
       "28        29                        uksharks_com.txt   \n",
       "29        30                          kristen_dk.txt   \n",
       "...      ...                                     ...   \n",
       "30613  30614                       musichost_com.txt   \n",
       "30614  30615                      cheeseland_net.txt   \n",
       "30615  30616                          ink361_com.txt   \n",
       "30616  30617                   Ericweisstein_com.txt   \n",
       "30617  30618                    smileyland_co_il.txt   \n",
       "30618  30619                     faireconomy_org.txt   \n",
       "30619  30620                   jaylclendenin_com.txt   \n",
       "30620  30621                          icampus_nl.txt   \n",
       "30621  30622                     pani-kumaya_com.txt   \n",
       "30622  30623                 coxcountrygifts_com.txt   \n",
       "30623  30624                      songplanet_com.txt   \n",
       "30624  30625                  hyperfoxstudio_com.txt   \n",
       "30625  30626                    detrafford_co_za.txt   \n",
       "30626  30627                  fortstreetbeer_com.txt   \n",
       "30627  30628                     horsemaniac_com.txt   \n",
       "30628  30629                      goodresume_com.txt   \n",
       "30629  30630                   airmadagascar_com.txt   \n",
       "30630  30631                          fatisch_de.txt   \n",
       "30631  30632                    nitrodollars_com.txt   \n",
       "30632  30633               leadershipresumes_net.txt   \n",
       "30633  30634                   global-evolve_com.txt   \n",
       "30634  30635                  Dex_freehostia_com.txt   \n",
       "30635  30636                           flcuk_com.txt   \n",
       "30636  30637                   discordcomics_com.txt   \n",
       "30637  30638              Song-lyrics-search_com.txt   \n",
       "30638  30639                 musicbox-online_com.txt   \n",
       "30639  30640                           tv-qc_net.txt   \n",
       "30640  30641               trinitywildcats_co_uk.txt   \n",
       "30641  30642              homeschoolingtoday_com.txt   \n",
       "30642  30643          streetrat_comicgenesis_com.txt   \n",
       "\n",
       "                                               htmlsText  htmlsSize  \n",
       "0          Singles Dating Agency   Register for free ...         55  \n",
       "1                                                                 5  \n",
       "2                                      403 Forbidden             18  \n",
       "3      You don t have permission to access   on this ...        183  \n",
       "4                                    pat raceable tk             20  \n",
       "5                                                                 6  \n",
       "6                          FIREARMSTRAININGGROUP COM             30  \n",
       "7                              mystmanuualfastweb tk             26  \n",
       "8      An appropriate representation of the requested...        227  \n",
       "9       hitspages com  Buy this domain   Privacy Poli...         51  \n",
       "10      Yojik com  The domain yojik com may be for sa...        112  \n",
       "11                                 LibraryMonk com               23  \n",
       "12     This domain is FOR SALE   Diese Domain steht Z...        253  \n",
       "13        Copyright  gameswag co kr All right reserve...         77  \n",
       "14      Create a Website   Tripod Web Hosting  Login ...        313  \n",
       "15      Threefingers Cartooning Matt Golding         ...         67  \n",
       "16      Majompard   Kezdlap Bejelentkezs Regisztrci E...         65  \n",
       "17     New Articles on the Website From the Arsenal o...       1424  \n",
       "18     Nestled in the heart of Ayrshire s renowned Bu...       1144  \n",
       "19      Colorado Adult Soccer Association      Colora...        233  \n",
       "20      You have requested a site that is currently o...        618  \n",
       "21     Panther Hills Ultimate Motorized Bicycle Autho...       7250  \n",
       "22             Mercantile Bank             Home loan ...         97  \n",
       "23     Sundial Magazines Ltd is an independent compan...       1190  \n",
       "24     Dimapur Web Design is a Web Design Company  ba...       3848  \n",
       "25            Plantiac is een bijzonder zachte Vieux ...       6610  \n",
       "26                                                                5  \n",
       "27        Click to  Like Us  on Facebook  Basically w...       1049  \n",
       "28      2014 sees the launch of a new look UK Sharks ...       3187  \n",
       "29     CKT er en uafhngig tnketank af kristne vidensk...        968  \n",
       "...                                                  ...        ...  \n",
       "30613   MusicHost Classical Music Video Recording   G...        224  \n",
       "30614   Welcome to CHEESELAND NET  Interested in this...        111  \n",
       "30615   Relive your Instagram moments   Find and foll...       1689  \n",
       "30616    I was born in Bloomington  Indiana  on March...       4693  \n",
       "30617                                                ...        505  \n",
       "30618  We re still accepting applications for Liberat...       1844  \n",
       "30619   LA Photographer Jay L  Clendenin  Portrait Ph...        139  \n",
       "30620   iCampus nl is gesloten   Skylark Media Group ...         66  \n",
       "30621                                                ...        408  \n",
       "30622                                                             5  \n",
       "30623  Sign in Recent Site Activity Report Abuse Prin...        253  \n",
       "30624    Hello  I am alive  BTS is not dead  I suppos...       1451  \n",
       "30625      We are open for sales and tastings Friday ...       3036  \n",
       "30626  BYO bloody marys   1 off FC beers   5 pizzas  ...       3940  \n",
       "30627                                             Bes...       2172  \n",
       "30628  writersblockservices com Writing  design  mark...       5239  \n",
       "30629    Air Madagascar dessert 21 destinations sur l...       4410  \n",
       "30630                           PLANET Fatisch                   25  \n",
       "30631                Web Page Under Construction                 36  \n",
       "30632       In preparation for    or in re energizing...       1960  \n",
       "30633  Jump to content  Click here to log in   Commun...        223  \n",
       "30634                                                             7  \n",
       "30635  Search    The Premier Bike Shop in Bournemouth...       3318  \n",
       "30636  Khaos Komix in French Khaos Komix in Hungarian...        703  \n",
       "30637   Song Lyrics Search  Aerosmith Backstreet     ...        652  \n",
       "30638                     The Music Box is a daily ma...       7355  \n",
       "30639     tv qc net  Buy this domain   Privacy Policy            47  \n",
       "30640  Millions of people watch all kinds of sports d...       7217  \n",
       "30641  Colorful leaves are the hallmark of fall  Thei...       2148  \n",
       "30642     Street Rat                     Keenspace   ...         66  \n",
       "\n",
       "[30643 rows x 4 columns]"
      ]
     },
     "execution_count": 73,
     "metadata": {},
     "output_type": "execute_result"
    }
   ],
   "source": [
    "data"
   ]
  },
  {
   "cell_type": "code",
   "execution_count": null,
   "metadata": {
    "collapsed": true
   },
   "outputs": [],
   "source": []
  }
 ],
 "metadata": {
  "kernelspec": {
   "display_name": "Python 2",
   "language": "python",
   "name": "python2"
  },
  "language_info": {
   "codemirror_mode": {
    "name": "ipython",
    "version": 2
   },
   "file_extension": ".py",
   "mimetype": "text/x-python",
   "name": "python",
   "nbconvert_exporter": "python",
   "pygments_lexer": "ipython2",
   "version": "2.7.10"
  }
 },
 "nbformat": 4,
 "nbformat_minor": 0
}
